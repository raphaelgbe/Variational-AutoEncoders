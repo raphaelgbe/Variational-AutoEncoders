{
  "nbformat": 4,
  "nbformat_minor": 0,
  "metadata": {
    "colab": {
      "name": "infoVAE.ipynb",
      "version": "0.3.2",
      "provenance": [],
      "collapsed_sections": []
    },
    "language_info": {
      "codemirror_mode": {
        "name": "ipython",
        "version": 3
      },
      "file_extension": ".py",
      "mimetype": "text/x-python",
      "name": "python",
      "nbconvert_exporter": "python",
      "pygments_lexer": "ipython3",
      "version": "3.6.3"
    },
    "kernelspec": {
      "display_name": "Python 3",
      "language": "python",
      "name": "python3"
    }
  },
  "cells": [
    {
      "cell_type": "markdown",
      "metadata": {
        "id": "KKj6H_G4n1pR",
        "colab_type": "text"
      },
      "source": [
        "# VAE with MMD objective on MNIST dataset:"
      ]
    },
    {
      "cell_type": "code",
      "metadata": {
        "id": "XCObq5HydAVI",
        "colab_type": "code",
        "colab": {}
      },
      "source": [
        "import os, sys, math\n",
        "import numpy as np\n",
        "import pandas as pd\n",
        "import torch\n",
        "import torchvision\n",
        "import torchvision.transforms as transforms\n",
        "from matplotlib import pyplot as plt\n",
        "import random\n",
        "\n",
        "seed = 40569\n",
        "random.seed(seed)\n",
        "\n",
        "import torch.nn as nn\n",
        "import torch.nn.functional as F\n",
        "\n",
        "\n",
        "#based on:\n",
        "#https://github.com/ShengjiaZhao/InfoVAE/blob/master/mmd_vae.ipynb\n",
        "#https://github.com/atinghosh/VAE-pytorch/blob/master/VAE_CNN_BCEloss.py\n",
        "#https://github.com/sksq96/pytorch-vae/blob/master/vae-cnn.ipynb"
      ],
      "execution_count": 0,
      "outputs": []
    },
    {
      "cell_type": "code",
      "metadata": {
        "id": "3ZudYgJGdAVc",
        "colab_type": "code",
        "colab": {}
      },
      "source": [
        "batch_size = 200\n",
        "z_dim = 20\n",
        "padding = 1"
      ],
      "execution_count": 0,
      "outputs": []
    },
    {
      "cell_type": "code",
      "metadata": {
        "id": "BG5LfILydAVl",
        "colab_type": "code",
        "colab": {}
      },
      "source": [
        "def lrelu(tens, rate=0.1):\n",
        "    return torch.max(torch.min(x * rate, 0), x)"
      ],
      "execution_count": 0,
      "outputs": []
    },
    {
      "cell_type": "code",
      "metadata": {
        "id": "aByebgIUdAWA",
        "colab_type": "code",
        "colab": {}
      },
      "source": [
        "class Encoder(nn.Module):\n",
        "    \n",
        "    def __init__(self, z_dim):\n",
        "        super(Encoder, self).__init__()\n",
        "        self.conv1 = nn.Conv2d(1, 64, 4, stride=2, padding=padding)\n",
        "        self.conv2 = nn.Conv2d(64, 128, 4, stride=2, padding=padding)\n",
        "        self.fc1 = nn.Linear(7*7*128, 1024)\n",
        "        self.fc2 = nn.Linear(1024, z_dim)\n",
        "        \n",
        "    def forward(self, x):\n",
        "        x = F.leaky_relu(self.conv1(x), negative_slope=0.1)\n",
        "        x = F.leaky_relu(self.conv2(x), negative_slope=0.1)\n",
        "        x = x.view(-1, np.array(x.shape)[1:].prod())\n",
        "        x = F.leaky_relu(self.fc1(x))\n",
        "        return self.fc2(x)"
      ],
      "execution_count": 0,
      "outputs": []
    },
    {
      "cell_type": "code",
      "metadata": {
        "id": "ZSjk2LbWdAWF",
        "colab_type": "code",
        "colab": {}
      },
      "source": [
        "class Decoder(nn.Module):\n",
        "    \n",
        "    def __init__(self, z_dim):\n",
        "        super(Decoder, self).__init__()\n",
        "        self.fc1 = nn.Linear(z_dim, 1024)\n",
        "        self.fc2 = nn.Linear(1024, 7*7*128)\n",
        "        self.conv1 = nn.ConvTranspose2d(128, 64, 4, stride=2, padding=padding)\n",
        "        self.conv2 = nn.ConvTranspose2d(64, 1, 4, stride=2, padding=padding)\n",
        "        \n",
        "        \n",
        "    def forward(self, x):\n",
        "        x = F.relu(self.fc1(x))\n",
        "        x = F.relu(self.fc2(x))\n",
        "        x = x.view(-1, 128, 7, 7)\n",
        "        x = F.relu(self.conv1(x))\n",
        "        x = self.conv2(x)\n",
        "        return F.sigmoid(x)"
      ],
      "execution_count": 0,
      "outputs": []
    },
    {
      "cell_type": "code",
      "metadata": {
        "id": "UCQz3q2xdAWL",
        "colab_type": "code",
        "colab": {}
      },
      "source": [
        "def compute_kernel(x, y):\n",
        "    \n",
        "    x_size = x.shape[0]\n",
        "    y_size = y.shape[0]\n",
        "    dim = x.shape[1]\n",
        "    tiled_x = x.view(x_size, 1, dim).repeat(1, y_size, 1)\n",
        "    tiled_y = y.view(1, y_size, dim).repeat(x_size, 1, 1)\n",
        "    return torch.exp(- torch.mean((tiled_x - tiled_y)**2, dim=2) / float(dim))\n",
        "    \n",
        "def compute_mmd(x, y):\n",
        "    x_kernel = compute_kernel(x, x)\n",
        "    y_kernel = compute_kernel(y, y)\n",
        "    xy_kernel = compute_kernel(x, y)\n",
        "    return (x_kernel + y_kernel - 2 * xy_kernel).mean()"
      ],
      "execution_count": 0,
      "outputs": []
    },
    {
      "cell_type": "code",
      "metadata": {
        "id": "fovfDqeodAWQ",
        "colab_type": "code",
        "colab": {}
      },
      "source": [
        "class infoVAE(nn.Module):\n",
        "    \n",
        "    def __init__(self, image_channels=1, z_dim=z_dim):\n",
        "        super(infoVAE, self).__init__()\n",
        "        self.z_dim = z_dim\n",
        "        self.encoder = Encoder(z_dim)\n",
        "        self.decoder = Decoder(z_dim)\n",
        "        \n",
        "    def forward(self, x):\n",
        "        z = self.encoder(x)\n",
        "        if self.training:\n",
        "            return z, self.decoder(z)\n",
        "        else:\n",
        "            return self.decoder(z)\n",
        "    \n",
        "    def loss_nll(self, x, x_recon):\n",
        "        return ((x_recon - x)**2).mean()  #F.mse_loss(x_recon, x)\n",
        "    \n",
        "    def loss_mmd(self, z, batch_size=batch_size):\n",
        "        true_samples = torch.randn(batch_size, self.z_dim)\n",
        "        return compute_mmd(true_samples, z)\n",
        "    \n",
        "    def loss_function(self, x, x_recon, z, batch_size=batch_size):\n",
        "        return self.loss_nll(x, x_recon) + self.loss_mmd(z, batch_size)"
      ],
      "execution_count": 0,
      "outputs": []
    },
    {
      "cell_type": "code",
      "metadata": {
        "id": "9pvH8oZcdAWY",
        "colab_type": "code",
        "colab": {}
      },
      "source": [
        "vae = infoVAE()"
      ],
      "execution_count": 0,
      "outputs": []
    },
    {
      "cell_type": "code",
      "metadata": {
        "id": "m51eYYa8dAWf",
        "colab_type": "code",
        "colab": {}
      },
      "source": [
        "optimizer = torch.optim.Adam(vae.parameters(), lr=1e-3)"
      ],
      "execution_count": 0,
      "outputs": []
    },
    {
      "cell_type": "code",
      "metadata": {
        "id": "efk6wbSodAWl",
        "colab_type": "code",
        "colab": {}
      },
      "source": [
        "from torchvision import datasets\n",
        "\n",
        "path = './MNIST_data'\n",
        "if not os.path.exists(path):\n",
        "    os.makedirs(path)\n",
        "\n",
        "data = datasets.MNIST(path, train=True, download=False)#.train_data#.view(-1).float()\n"
      ],
      "execution_count": 0,
      "outputs": []
    },
    {
      "cell_type": "code",
      "metadata": {
        "id": "qWCPcfIcdAWp",
        "colab_type": "code",
        "outputId": "94b374de-4008-4c38-9a68-b5ba3970c2e9",
        "colab": {}
      },
      "source": [
        "data.train_data[0*200:1*200].shape"
      ],
      "execution_count": 0,
      "outputs": [
        {
          "output_type": "execute_result",
          "data": {
            "text/plain": [
              "torch.Size([200, 28, 28])"
            ]
          },
          "metadata": {
            "tags": []
          },
          "execution_count": 13
        }
      ]
    },
    {
      "cell_type": "code",
      "metadata": {
        "id": "-EbjsCzBdAWv",
        "colab_type": "code",
        "colab": {}
      },
      "source": [
        "ls_shuffle = list(range(60000))\n",
        "random.shuffle(ls_shuffle)\n",
        "split = 0.8"
      ],
      "execution_count": 0,
      "outputs": []
    },
    {
      "cell_type": "code",
      "metadata": {
        "id": "xIaBbsWPdAWz",
        "colab_type": "code",
        "colab": {}
      },
      "source": [
        "epochs = 1 #7 #10 #laptop shuts down if too long...\n",
        "height = data.train_data.shape[-2]\n",
        "width = data.train_data.shape[-1]\n",
        "train_data = data.train_data[ls_shuffle[:math.ceil(split * 60000)]].type('torch.FloatTensor')/255.\n",
        "val_data = data.train_data[ls_shuffle[math.ceil(split * 60000):]].type('torch.FloatTensor')/255."
      ],
      "execution_count": 0,
      "outputs": []
    },
    {
      "cell_type": "code",
      "metadata": {
        "id": "4UQvUp6bdAW8",
        "colab_type": "code",
        "outputId": "580bda33-5bf7-4f25-dedd-96d4311669ec",
        "colab": {}
      },
      "source": [
        "nb_batches = len(train_data)//batch_size\n",
        "\n",
        "for epoch in range(epochs):\n",
        "    for id_batch in range(nb_batches):\n",
        "        data_batch = train_data[(batch_size * id_batch):((id_batch + 1) * batch_size)]\n",
        "        data_batch = data_batch.view(batch_size, 1, height, width)\n",
        "        \n",
        "        z_batch, data_batch_recon = vae(data_batch)\n",
        "        mmd_loss = vae.loss_mmd(z_batch)\n",
        "        nll_loss = vae.loss_nll(data_batch, data_batch_recon)\n",
        "        loss = nll_loss + mmd_loss\n",
        "        optimizer.zero_grad()\n",
        "        loss.backward()\n",
        "        optimizer.step()\n",
        "        if not id_batch % 10:\n",
        "            print(f'Epoch {epoch + 1}/{epochs}, Batch {id_batch}/{nb_batches}, Loss MMD: {mmd_loss}; Loss NLL: {nll_loss}')"
      ],
      "execution_count": 0,
      "outputs": [
        {
          "output_type": "stream",
          "text": [
            "C:\\Users\\Raphael\\Anaconda3bis\\lib\\site-packages\\torch\\nn\\functional.py:1006: UserWarning: nn.functional.sigmoid is deprecated. Use torch.sigmoid instead.\n",
            "  warnings.warn(\"nn.functional.sigmoid is deprecated. Use torch.sigmoid instead.\")\n"
          ],
          "name": "stderr"
        },
        {
          "output_type": "stream",
          "text": [
            "Epoch 1/1, Batch 0/240, Loss MMD: 0.0029935224447399378; Loss NLL: 0.22738629579544067\n",
            "Epoch 1/1, Batch 10/240, Loss MMD: 0.003536537056788802; Loss NLL: 0.09845829755067825\n",
            "Epoch 1/1, Batch 20/240, Loss MMD: 0.0032503947149962187; Loss NLL: 0.07405422627925873\n",
            "Epoch 1/1, Batch 30/240, Loss MMD: 0.0037527228705585003; Loss NLL: 0.06648081541061401\n",
            "Epoch 1/1, Batch 40/240, Loss MMD: 0.002876213053241372; Loss NLL: 0.06314099580049515\n",
            "Epoch 1/1, Batch 50/240, Loss MMD: 0.0026682165917009115; Loss NLL: 0.061244841665029526\n",
            "Epoch 1/1, Batch 60/240, Loss MMD: 0.002480186754837632; Loss NLL: 0.060042157769203186\n",
            "Epoch 1/1, Batch 70/240, Loss MMD: 0.002717655850574374; Loss NLL: 0.05873427540063858\n",
            "Epoch 1/1, Batch 80/240, Loss MMD: 0.0025585328694432974; Loss NLL: 0.05699756741523743\n",
            "Epoch 1/1, Batch 90/240, Loss MMD: 0.0019548877608031034; Loss NLL: 0.05283309146761894\n",
            "Epoch 1/1, Batch 100/240, Loss MMD: 0.002437023678794503; Loss NLL: 0.04798408970236778\n",
            "Epoch 1/1, Batch 110/240, Loss MMD: 0.0024672369472682476; Loss NLL: 0.044125378131866455\n",
            "Epoch 1/1, Batch 120/240, Loss MMD: 0.0020134521182626486; Loss NLL: 0.04220355302095413\n",
            "Epoch 1/1, Batch 130/240, Loss MMD: 0.0020197213161736727; Loss NLL: 0.035515524446964264\n",
            "Epoch 1/1, Batch 140/240, Loss MMD: 0.0027679833583533764; Loss NLL: 0.032975904643535614\n",
            "Epoch 1/1, Batch 150/240, Loss MMD: 0.00205623684450984; Loss NLL: 0.031026216223835945\n",
            "Epoch 1/1, Batch 160/240, Loss MMD: 0.0018624927615746856; Loss NLL: 0.03090403974056244\n",
            "Epoch 1/1, Batch 170/240, Loss MMD: 0.0016674798680469394; Loss NLL: 0.028816435486078262\n",
            "Epoch 1/1, Batch 180/240, Loss MMD: 0.0018304962432011962; Loss NLL: 0.02752712368965149\n",
            "Epoch 1/1, Batch 190/240, Loss MMD: 0.0014620666624978185; Loss NLL: 0.026433927938342094\n",
            "Epoch 1/1, Batch 200/240, Loss MMD: 0.0015007549664005637; Loss NLL: 0.02345079928636551\n",
            "Epoch 1/1, Batch 210/240, Loss MMD: 0.00197532563470304; Loss NLL: 0.02361868880689144\n",
            "Epoch 1/1, Batch 220/240, Loss MMD: 0.0011538250837475061; Loss NLL: 0.022144615650177002\n",
            "Epoch 1/1, Batch 230/240, Loss MMD: 0.001227265689522028; Loss NLL: 0.022386973723769188\n"
          ],
          "name": "stdout"
        }
      ]
    },
    {
      "cell_type": "code",
      "metadata": {
        "id": "9li0SqEEdAXJ",
        "colab_type": "code",
        "outputId": "0fa8e27e-560b-49b1-91e6-ea1f1e49af58",
        "colab": {}
      },
      "source": [
        "import PIL.Image\n",
        "\n",
        "sqrt_ex = 5\n",
        "\n",
        "arr = np.zeros((sqrt_ex * 28, sqrt_ex * 28), dtype='uint8')\n",
        "\n",
        "for i in range(sqrt_ex):\n",
        "    for j in range(sqrt_ex):\n",
        "        arr[i*28:(i+1)*28, j*28:(j+1)*28] = ((vae(val_data[i + 5*j].view(1, 1, height, width)))[1]*255.).type('torch.IntTensor').view(28, 28).numpy().astype('uint8')\n",
        "\n",
        "#print(type(arr), arr.shape, arr.dtype)\n",
        "PIL.Image.fromarray(arr, 'L')\n"
      ],
      "execution_count": 0,
      "outputs": [
        {
          "output_type": "stream",
          "text": [
            "C:\\Users\\Raphael\\Anaconda3bis\\lib\\site-packages\\torch\\nn\\functional.py:1006: UserWarning: nn.functional.sigmoid is deprecated. Use torch.sigmoid instead.\n",
            "  warnings.warn(\"nn.functional.sigmoid is deprecated. Use torch.sigmoid instead.\")\n"
          ],
          "name": "stderr"
        },
        {
          "output_type": "execute_result",
          "data": {
            "image/png": "[encoded data removed]",
            "text/plain": [
              "<PIL.Image.Image image mode=L size=140x140 at 0x1378B5D3278>"
            ]
          },
          "metadata": {
            "tags": []
          },
          "execution_count": 130
        }
      ]
    },
    {
      "cell_type": "code",
      "metadata": {
        "scrolled": true,
        "id": "_DZztNVudAXQ",
        "colab_type": "code",
        "outputId": "3beba4d4-d6a0-402e-a854-6605a78c77f1",
        "colab": {}
      },
      "source": [
        "or_arr = np.zeros((sqrt_ex * 28, sqrt_ex * 28), dtype='uint8')\n",
        "\n",
        "for i in range(sqrt_ex):\n",
        "    for j in range(sqrt_ex):\n",
        "        or_arr[i*28:(i+1)*28, j*28:(j+1)*28] = (val_data[i + 5*j]*255.).type('torch.IntTensor').numpy().astype('uint8')\n",
        "        \n",
        "PIL.Image.fromarray(or_arr, 'L')"
      ],
      "execution_count": 0,
      "outputs": [
        {
          "output_type": "execute_result",
          "data": {
            "image/png": "[encoded data removed]",
            "text/plain": [
              "<PIL.Image.Image image mode=L size=140x140 at 0x1378B5D3CC0>"
            ]
          },
          "metadata": {
            "tags": []
          },
          "execution_count": 133
        }
      ]
    },
    {
      "cell_type": "code",
      "metadata": {
        "id": "Glm9bLPjdAXW",
        "colab_type": "code",
        "colab": {}
      },
      "source": [
        "z_test_rand = torch.randn(20)"
      ],
      "execution_count": 0,
      "outputs": []
    },
    {
      "cell_type": "code",
      "metadata": {
        "id": "wo12VcpsdAXg",
        "colab_type": "code",
        "outputId": "e381cf6b-bb57-4f76-bf3c-e5e50ba1c296",
        "colab": {}
      },
      "source": [
        "gen_arr_test = (vae.decoder(z_test_rand)*255).type('torch.IntTensor').view(28, 28).numpy().astype('uint8')"
      ],
      "execution_count": 0,
      "outputs": [
        {
          "output_type": "stream",
          "text": [
            "C:\\Users\\Raphael\\Anaconda3bis\\lib\\site-packages\\torch\\nn\\functional.py:1006: UserWarning: nn.functional.sigmoid is deprecated. Use torch.sigmoid instead.\n",
            "  warnings.warn(\"nn.functional.sigmoid is deprecated. Use torch.sigmoid instead.\")\n"
          ],
          "name": "stderr"
        }
      ]
    },
    {
      "cell_type": "code",
      "metadata": {
        "id": "QswzwFbfdAXl",
        "colab_type": "code",
        "outputId": "7dacea8e-10bd-4857-d820-5fa6292a6c19",
        "colab": {}
      },
      "source": [
        "PIL.Image.fromarray(gen_arr_test, 'L')"
      ],
      "execution_count": 0,
      "outputs": [
        {
          "output_type": "execute_result",
          "data": {
            "image/png": "[encoded data removed]",
            "text/plain": [
              "<PIL.Image.Image image mode=L size=28x28 at 0x1378B5E61D0>"
            ]
          },
          "metadata": {
            "tags": []
          },
          "execution_count": 111
        }
      ]
    },
    {
      "cell_type": "code",
      "metadata": {
        "id": "0qzDZr5wdAXp",
        "colab_type": "code",
        "colab": {}
      },
      "source": [
        ""
      ],
      "execution_count": 0,
      "outputs": []
    }
  ]
}