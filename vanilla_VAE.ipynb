{
  "nbformat": 4,
  "nbformat_minor": 0,
  "metadata": {
    "colab": {
      "name": "vanilla_VAE.ipynb",
      "version": "0.3.2",
      "provenance": [],
      "collapsed_sections": [],
      "include_colab_link": true
    },
    "language_info": {
      "codemirror_mode": {
        "name": "ipython",
        "version": 3
      },
      "file_extension": ".py",
      "mimetype": "text/x-python",
      "name": "python",
      "nbconvert_exporter": "python",
      "pygments_lexer": "ipython3",
      "version": "3.6.3"
    },
    "kernelspec": {
      "display_name": "Python 3",
      "language": "python",
      "name": "python3"
    }
  },
  "cells": [
    {
      "cell_type": "markdown",
      "metadata": {
        "id": "view-in-github",
        "colab_type": "text"
      },
      "source": [
        "<a href=\"https://colab.research.google.com/github/raphaelgbe/Variational-AutoEncoders/blob/master/vanilla_VAE.ipynb\" target=\"_parent\"><img src=\"https://colab.research.google.com/assets/colab-badge.svg\" alt=\"Open In Colab\"/></a>"
      ]
    },
    {
      "cell_type": "markdown",
      "metadata": {
        "id": "4zfgZt8snZ3G",
        "colab_type": "text"
      },
      "source": [
        "# VAE with ELBO objective on MNIST dataset:"
      ]
    },
    {
      "cell_type": "code",
      "metadata": {
        "id": "alEF_uFic6ab",
        "colab_type": "code",
        "colab": {}
      },
      "source": [
        "import os, sys, math\n",
        "import numpy as np\n",
        "import torch\n",
        "import torchvision\n",
        "import torchvision.transforms as transforms\n",
        "from matplotlib import pyplot as plt\n",
        "import random\n",
        "import PIL.Image\n",
        "from torchvision import datasets\n",
        "\n",
        "seed = 40569\n",
        "random.seed(seed)\n",
        "torch.manual_seed(seed)\n",
        "\n",
        "import torch.nn as nn\n",
        "import torch.nn.functional as F\n"
      ],
      "execution_count": 0,
      "outputs": []
    },
    {
      "cell_type": "code",
      "metadata": {
        "id": "BoI6NW1kc6au",
        "colab_type": "code",
        "colab": {}
      },
      "source": [
        "batch_size = 200\n",
        "z_dim = 10\n",
        "padding = 1\n",
        "stride = 2\n",
        "params = {'stride': stride, 'padding': padding}"
      ],
      "execution_count": 0,
      "outputs": []
    },
    {
      "cell_type": "code",
      "metadata": {
        "id": "PFLyqfBtc6a4",
        "colab_type": "code",
        "colab": {}
      },
      "source": [
        "class Encoder(nn.Module):\n",
        "    \n",
        "    def __init__(self, z_dim, batch_size=batch_size):\n",
        "        super(Encoder, self).__init__()\n",
        "        self.conv1 = nn.Conv2d(1, 64, 4, **params)\n",
        "        self.conv2 = nn.Conv2d(64, 128, 4, **params)\n",
        "        self.fc1 = nn.Linear(7*7*128, 512)\n",
        "        self.fc2 = nn.Linear(512, z_dim)\n",
        "        \n",
        "    def forward(self, x):\n",
        "        x = F.leaky_relu(self.conv1(x), negative_slope=0.1)\n",
        "        x = F.leaky_relu(self.conv2(x), negative_slope=0.1)\n",
        "        x = x.view(-1, np.array(x.shape)[1:].prod())\n",
        "        x = F.leaky_relu(self.fc1(x))\n",
        "        mean = self.fc2(x)\n",
        "        stddev = torch.max(self.fc2(x), 0.001 * torch.ones(z_dim))\n",
        "        return mean, stddev, mean + stddev * torch.randn(z_dim)"
      ],
      "execution_count": 0,
      "outputs": []
    },
    {
      "cell_type": "code",
      "metadata": {
        "id": "yrBKPcNQc6a_",
        "colab_type": "code",
        "colab": {}
      },
      "source": [
        "class Decoder(nn.Module):\n",
        "    \n",
        "    def __init__(self, z_dim, batch_size=batch_size):\n",
        "        super(Decoder, self).__init__()\n",
        "        self.fc1 = nn.Linear(z_dim, 1024)\n",
        "        self.fc2 = nn.Linear(1024, 7*7*128)\n",
        "        self.conv1 = nn.ConvTranspose2d(128, 64, 4, **params)\n",
        "        self.conv2 = nn.ConvTranspose2d(64, 1, 4, **params)\n",
        "        \n",
        "        \n",
        "    def forward(self, x):\n",
        "        x = F.relu(self.fc1(x))\n",
        "        x = F.relu(self.fc2(x))\n",
        "        x = x.view(-1, 128, 7, 7)\n",
        "        x = F.relu(self.conv1(x))\n",
        "        x = self.conv2(x)\n",
        "        return F.sigmoid(x)"
      ],
      "execution_count": 0,
      "outputs": []
    },
    {
      "cell_type": "code",
      "metadata": {
        "id": "OuSp-XQJc6bG",
        "colab_type": "code",
        "colab": {}
      },
      "source": [
        "class VAE(nn.Module):\n",
        "    \n",
        "    def __init__(self, image_channels=1, z_dim=z_dim, batch_size=batch_size, elbo_coeff=0.001):\n",
        "        super(VAE, self).__init__()\n",
        "        self.z_dim = z_dim\n",
        "        self.elbo_coeff = elbo_coeff\n",
        "        self.encoder = Encoder(z_dim, batch_size)\n",
        "        self.decoder = Decoder(z_dim, batch_size)\n",
        "        \n",
        "    def forward(self, x):\n",
        "        mu, stddev, z = self.encoder(x)\n",
        "        if self.training:\n",
        "            return mu, stddev, self.decoder(z)\n",
        "        else:\n",
        "            return self.decoder(z)\n",
        "    \n",
        "    def loss_nll(self, x, x_recon):\n",
        "        return F.mse_loss(x_recon, x) #((x_recon - x)**2).mean()\n",
        "    \n",
        "    def loss_elbo(self, mean, stddev):\n",
        "        return - self.elbo_coeff * (torch.log(stddev) - 0.5 * stddev ** 2 - 0.5 * mean **2 + 0.5).mean()"
      ],
      "execution_count": 0,
      "outputs": []
    },
    {
      "cell_type": "code",
      "metadata": {
        "id": "wUSGuGxoc6bL",
        "colab_type": "code",
        "colab": {}
      },
      "source": [
        "vae = VAE()"
      ],
      "execution_count": 0,
      "outputs": []
    },
    {
      "cell_type": "code",
      "metadata": {
        "id": "clBKu7vMc6bR",
        "colab_type": "code",
        "colab": {}
      },
      "source": [
        "optimizer = torch.optim.Adam(vae.parameters(), lr=1e-3)"
      ],
      "execution_count": 0,
      "outputs": []
    },
    {
      "cell_type": "code",
      "metadata": {
        "id": "irTEVOXqc6bd",
        "colab_type": "code",
        "colab": {}
      },
      "source": [
        "path = './MNIST_data'\n",
        "if not os.path.exists(path):\n",
        "    os.makedirs(path)\n",
        "\n",
        "data = datasets.MNIST(path, train=True, download=False)"
      ],
      "execution_count": 0,
      "outputs": []
    },
    {
      "cell_type": "code",
      "metadata": {
        "id": "EXvsnULMc6bw",
        "colab_type": "code",
        "colab": {}
      },
      "source": [
        "ls_shuffle = list(range(60000))\n",
        "random.shuffle(ls_shuffle)\n",
        "split = 0.8"
      ],
      "execution_count": 0,
      "outputs": []
    },
    {
      "cell_type": "code",
      "metadata": {
        "id": "MV5PS4m0c6b_",
        "colab_type": "code",
        "colab": {}
      },
      "source": [
        "epochs = 2\n",
        "height = data.train_data.shape[-2]\n",
        "width = data.train_data.shape[-1]\n",
        "train_data = data.train_data[ls_shuffle[:math.ceil(split * 60000)]].type('torch.FloatTensor')/255.\n",
        "val_data = data.train_data[ls_shuffle[math.ceil(split * 60000):]].type('torch.FloatTensor')/255."
      ],
      "execution_count": 0,
      "outputs": []
    },
    {
      "cell_type": "code",
      "metadata": {
        "id": "SVDACua0c6cQ",
        "colab_type": "code",
        "outputId": "2753b0d7-aaa6-4b42-c4bd-dc96bdc03d7e",
        "colab": {}
      },
      "source": [
        "nb_batches = len(train_data)//batch_size\n",
        "\n",
        "for epoch in range(epochs):\n",
        "    for id_batch in range(nb_batches):\n",
        "        data_batch = train_data[(batch_size * id_batch):((id_batch + 1) * batch_size)]\n",
        "        data_batch = data_batch.view(batch_size, 1, height, width)\n",
        "        mu_batch, stddev_batch, data_batch_recon = vae(data_batch)\n",
        "        elbo_loss = vae.loss_elbo(mu_batch, stddev_batch)\n",
        "        nll_loss = vae.loss_nll(data_batch, data_batch_recon)\n",
        "        loss = nll_loss + elbo_loss\n",
        "        optimizer.zero_grad()\n",
        "        loss.backward()\n",
        "        optimizer.step()\n",
        "        if not id_batch % 10:\n",
        "            print(f'Epoch {epoch + 1}/{epochs}, Batch {id_batch}/{nb_batches}, Loss ELBO: {elbo_loss}; Loss NLL: {nll_loss}')"
      ],
      "execution_count": 0,
      "outputs": [
        {
          "output_type": "stream",
          "text": [
            "C:\\Users\\Raphael\\Anaconda3bis\\lib\\site-packages\\torch\\nn\\functional.py:1006: UserWarning: nn.functional.sigmoid is deprecated. Use torch.sigmoid instead.\n",
            "  warnings.warn(\"nn.functional.sigmoid is deprecated. Use torch.sigmoid instead.\")\n"
          ],
          "name": "stderr"
        },
        {
          "output_type": "stream",
          "text": [
            "Epoch 1/2, Batch 0/240, Loss ELBO: 0.0047979517839848995; Loss NLL: 0.22729434072971344\n",
            "Epoch 1/2, Batch 10/240, Loss ELBO: 0.0013726052129641175; Loss NLL: 0.08200478553771973\n",
            "Epoch 1/2, Batch 20/240, Loss ELBO: 0.0016000468749552965; Loss NLL: 0.0680796205997467\n",
            "Epoch 1/2, Batch 30/240, Loss ELBO: 0.0013110506115481257; Loss NLL: 0.066672183573246\n",
            "Epoch 1/2, Batch 40/240, Loss ELBO: 0.0012378502869978547; Loss NLL: 0.06675736606121063\n",
            "Epoch 1/2, Batch 50/240, Loss ELBO: 0.0016925105592235923; Loss NLL: 0.06311330199241638\n",
            "Epoch 1/2, Batch 60/240, Loss ELBO: 0.0013989669969305396; Loss NLL: 0.06381028145551682\n",
            "Epoch 1/2, Batch 70/240, Loss ELBO: 0.0014490534085780382; Loss NLL: 0.06150618568062782\n",
            "Epoch 1/2, Batch 80/240, Loss ELBO: 0.0011145849712193012; Loss NLL: 0.06281176209449768\n",
            "Epoch 1/2, Batch 90/240, Loss ELBO: 0.0011050724424421787; Loss NLL: 0.06215488538146019\n",
            "Epoch 1/2, Batch 100/240, Loss ELBO: 0.0012572905980050564; Loss NLL: 0.059486161917448044\n",
            "Epoch 1/2, Batch 110/240, Loss ELBO: 0.0017402422381564975; Loss NLL: 0.05937619507312775\n",
            "Epoch 1/2, Batch 120/240, Loss ELBO: 0.0017965818988159299; Loss NLL: 0.06392151862382889\n",
            "Epoch 1/2, Batch 130/240, Loss ELBO: 0.0024979787413030863; Loss NLL: 0.055178530514240265\n",
            "Epoch 1/2, Batch 140/240, Loss ELBO: 0.0027884081937372684; Loss NLL: 0.05230944603681564\n",
            "Epoch 1/2, Batch 150/240, Loss ELBO: 0.0024784442503005266; Loss NLL: 0.05227099731564522\n",
            "Epoch 1/2, Batch 160/240, Loss ELBO: 0.002903894055634737; Loss NLL: 0.05047469586133957\n",
            "Epoch 1/2, Batch 170/240, Loss ELBO: 0.003098140237852931; Loss NLL: 0.046377792954444885\n",
            "Epoch 1/2, Batch 180/240, Loss ELBO: 0.003547939471900463; Loss NLL: 0.04470880329608917\n",
            "Epoch 1/2, Batch 190/240, Loss ELBO: 0.004106976557523012; Loss NLL: 0.043620988726615906\n",
            "Epoch 1/2, Batch 200/240, Loss ELBO: 0.004541788715869188; Loss NLL: 0.03989100456237793\n",
            "Epoch 1/2, Batch 210/240, Loss ELBO: 0.004568098112940788; Loss NLL: 0.03738036006689072\n",
            "Epoch 1/2, Batch 220/240, Loss ELBO: 0.0048624062910676; Loss NLL: 0.03580364212393761\n",
            "Epoch 1/2, Batch 230/240, Loss ELBO: 0.005195740610361099; Loss NLL: 0.03581489622592926\n",
            "Epoch 2/2, Batch 0/240, Loss ELBO: 0.005041050259023905; Loss NLL: 0.033045023679733276\n",
            "Epoch 2/2, Batch 10/240, Loss ELBO: 0.005194693338125944; Loss NLL: 0.030522994697093964\n",
            "Epoch 2/2, Batch 20/240, Loss ELBO: 0.005209953989833593; Loss NLL: 0.030449282377958298\n",
            "Epoch 2/2, Batch 30/240, Loss ELBO: 0.005476412829011679; Loss NLL: 0.02983338199555874\n",
            "Epoch 2/2, Batch 40/240, Loss ELBO: 0.005516663193702698; Loss NLL: 0.026699388399720192\n",
            "Epoch 2/2, Batch 50/240, Loss ELBO: 0.005426611751317978; Loss NLL: 0.026348834857344627\n",
            "Epoch 2/2, Batch 60/240, Loss ELBO: 0.0055941189639270306; Loss NLL: 0.02670777402818203\n",
            "Epoch 2/2, Batch 70/240, Loss ELBO: 0.005620581563562155; Loss NLL: 0.02639830857515335\n",
            "Epoch 2/2, Batch 80/240, Loss ELBO: 0.005719617009162903; Loss NLL: 0.0245940200984478\n",
            "Epoch 2/2, Batch 90/240, Loss ELBO: 0.005714332219213247; Loss NLL: 0.02501801587641239\n",
            "Epoch 2/2, Batch 100/240, Loss ELBO: 0.005725491791963577; Loss NLL: 0.02313326485455036\n",
            "Epoch 2/2, Batch 110/240, Loss ELBO: 0.005487469956278801; Loss NLL: 0.025175290182232857\n",
            "Epoch 2/2, Batch 120/240, Loss ELBO: 0.005782846361398697; Loss NLL: 0.024401992559432983\n",
            "Epoch 2/2, Batch 130/240, Loss ELBO: 0.005586843006312847; Loss NLL: 0.022066596895456314\n",
            "Epoch 2/2, Batch 140/240, Loss ELBO: 0.005786374676972628; Loss NLL: 0.022696342319250107\n",
            "Epoch 2/2, Batch 150/240, Loss ELBO: 0.00598567072302103; Loss NLL: 0.022139646112918854\n",
            "Epoch 2/2, Batch 160/240, Loss ELBO: 0.005910946521908045; Loss NLL: 0.022567301988601685\n",
            "Epoch 2/2, Batch 170/240, Loss ELBO: 0.006089635659009218; Loss NLL: 0.021764952689409256\n",
            "Epoch 2/2, Batch 180/240, Loss ELBO: 0.00625758757814765; Loss NLL: 0.021856989711523056\n",
            "Epoch 2/2, Batch 190/240, Loss ELBO: 0.006352222990244627; Loss NLL: 0.02121596969664097\n",
            "Epoch 2/2, Batch 200/240, Loss ELBO: 0.006330436561256647; Loss NLL: 0.01919703558087349\n",
            "Epoch 2/2, Batch 210/240, Loss ELBO: 0.0062610008753836155; Loss NLL: 0.01979553885757923\n",
            "Epoch 2/2, Batch 220/240, Loss ELBO: 0.006437777541577816; Loss NLL: 0.02010859176516533\n",
            "Epoch 2/2, Batch 230/240, Loss ELBO: 0.006313073914498091; Loss NLL: 0.019565898925065994\n"
          ],
          "name": "stdout"
        }
      ]
    },
    {
      "cell_type": "code",
      "metadata": {
        "id": "EXJBQjYBc6ck",
        "colab_type": "code",
        "outputId": "e536af47-623c-49b7-ccbf-525f53691543",
        "colab": {}
      },
      "source": [
        "import PIL.Image\n",
        "\n",
        "sqrt_ex = 5\n",
        "\n",
        "arr = np.zeros((sqrt_ex * 28, sqrt_ex * 28), dtype='uint8')\n",
        "\n",
        "for i in range(sqrt_ex):\n",
        "    for j in range(sqrt_ex):\n",
        "        arr[i*28:(i+1)*28, j*28:(j+1)*28] = ((vae(val_data[i + 5*j].view(1, 1, height, width)))[-1]*255.).type('torch.IntTensor').view(28, 28).numpy().astype('uint8')\n",
        "\n",
        "#print(type(arr), arr.shape, arr.dtype)\n",
        "PIL.Image.fromarray(arr, 'L')\n"
      ],
      "execution_count": 0,
      "outputs": [
        {
          "output_type": "stream",
          "text": [
            "C:\\Users\\Raphael\\Anaconda3bis\\lib\\site-packages\\torch\\nn\\functional.py:1006: UserWarning: nn.functional.sigmoid is deprecated. Use torch.sigmoid instead.\n",
            "  warnings.warn(\"nn.functional.sigmoid is deprecated. Use torch.sigmoid instead.\")\n"
          ],
          "name": "stderr"
        },
        {
          "output_type": "execute_result",
          "data": {
            "image/png": "[encoded data removed]",
            "text/plain": [
              "<PIL.Image.Image image mode=L size=140x140 at 0x2C7684D4B70>"
            ]
          },
          "metadata": {
            "tags": []
          },
          "execution_count": 13
        }
      ]
    },
    {
      "cell_type": "code",
      "metadata": {
        "id": "dSVGi0kEc6cr",
        "colab_type": "code",
        "outputId": "c23cdc23-18b6-4385-e28e-e0ceb248a39b",
        "colab": {}
      },
      "source": [
        "or_arr = np.zeros((sqrt_ex * 28, sqrt_ex * 28), dtype='uint8')\n",
        "\n",
        "for i in range(sqrt_ex):\n",
        "    for j in range(sqrt_ex):\n",
        "        or_arr[i*28:(i+1)*28, j*28:(j+1)*28] = (val_data[i + 5*j]*255.).type('torch.IntTensor').numpy().astype('uint8')\n",
        "        \n",
        "PIL.Image.fromarray(or_arr, 'L')"
      ],
      "execution_count": 0,
      "outputs": [
        {
          "output_type": "execute_result",
          "data": {
            "image/png": "[encoded data removed]",
            "text/plain": [
              "<PIL.Image.Image image mode=L size=140x140 at 0x2C7684C9BA8>"
            ]
          },
          "metadata": {
            "tags": []
          },
          "execution_count": 14
        }
      ]
    },
    {
      "cell_type": "code",
      "metadata": {
        "id": "pEZSQGJfc6cy",
        "colab_type": "code",
        "colab": {}
      },
      "source": [
        "z_test_rand = torch.randn(z_dim)"
      ],
      "execution_count": 0,
      "outputs": []
    },
    {
      "cell_type": "code",
      "metadata": {
        "id": "k0WjvNztc6c3",
        "colab_type": "code",
        "outputId": "e9c80ce4-d673-4974-c196-24d1600cf3f3",
        "colab": {}
      },
      "source": [
        "gen_arr_test = (vae.decoder(z_test_rand)*255).type('torch.IntTensor').view(28, 28).numpy().astype('uint8')"
      ],
      "execution_count": 0,
      "outputs": [
        {
          "output_type": "stream",
          "text": [
            "C:\\Users\\Raphael\\Anaconda3bis\\lib\\site-packages\\torch\\nn\\functional.py:1006: UserWarning: nn.functional.sigmoid is deprecated. Use torch.sigmoid instead.\n",
            "  warnings.warn(\"nn.functional.sigmoid is deprecated. Use torch.sigmoid instead.\")\n"
          ],
          "name": "stderr"
        }
      ]
    },
    {
      "cell_type": "code",
      "metadata": {
        "id": "zwk-W7J-c6dE",
        "colab_type": "code",
        "outputId": "19739e96-3dd9-4f48-c009-da6aeedd40de",
        "colab": {}
      },
      "source": [
        "PIL.Image.fromarray(gen_arr_test, 'L')"
      ],
      "execution_count": 0,
      "outputs": [
        {
          "output_type": "execute_result",
          "data": {
            "image/png": "[encoded data removed]",
            "text/plain": [
              "<PIL.Image.Image image mode=L size=28x28 at 0x2C7684C95F8>"
            ]
          },
          "metadata": {
            "tags": []
          },
          "execution_count": 28
        }
      ]
    },
    {
      "cell_type": "code",
      "metadata": {
        "id": "sqn9utNcc6dK",
        "colab_type": "code",
        "colab": {}
      },
      "source": [
        ""
      ],
      "execution_count": 0,
      "outputs": []
    }
  ]
}